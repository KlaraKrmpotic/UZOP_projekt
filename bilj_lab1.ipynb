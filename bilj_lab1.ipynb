{
 "cells": [
  {
   "cell_type": "markdown",
   "metadata": {},
   "source": [
    "# Early-Stage Alzheimer's Disease Prediction Using Machine Learning Models\n",
    "\n",
    "Klara Krmpotić\n",
    "0036519753\n"
   ]
  },
  {
   "cell_type": "markdown",
   "metadata": {},
   "source": [
    "Unos svih potrebnih libraries"
   ]
  },
  {
   "cell_type": "code",
   "execution_count": 9,
   "metadata": {},
   "outputs": [],
   "source": [
    "import numpy as np\n",
    "import pandas as pd\n",
    "from sklearn.ensemble import RandomForestClassifier, ExtraTreesClassifier\n",
    "from sklearn.metrics import accuracy_score, confusion_matrix\n",
    "from sklearn.model_selection import train_test_split\n",
    "from sklearn.preprocessing import OneHotEncoder, LabelEncoder\n",
    "from sklearn.model_selection import cross_val_score\n",
    "from sklearn.feature_selection import SelectKBest, mutual_info_classif\n",
    "import matplotlib.pyplot as plt"
   ]
  },
  {
   "cell_type": "markdown",
   "metadata": {},
   "source": [
    "Ucitavanje podataka i njihov ispis"
   ]
  },
  {
   "cell_type": "code",
   "execution_count": 10,
   "metadata": {},
   "outputs": [
    {
     "name": "stdout",
     "output_type": "stream",
     "text": [
      "                ID M/F Hand  Age  Educ  SES  MMSE  CDR  eTIV   nWBV    ASF  \\\n",
      "0    OAS1_0001_MR1   F    R   74   2.0  3.0  29.0  0.0  1344  0.743  1.306   \n",
      "1    OAS1_0002_MR1   F    R   55   4.0  1.0  29.0  0.0  1147  0.810  1.531   \n",
      "2    OAS1_0003_MR1   F    R   73   4.0  3.0  27.0  0.5  1454  0.708  1.207   \n",
      "3    OAS1_0004_MR1   M    R   28   NaN  NaN   NaN  NaN  1588  0.803  1.105   \n",
      "4    OAS1_0005_MR1   M    R   18   NaN  NaN   NaN  NaN  1737  0.848  1.010   \n",
      "..             ...  ..  ...  ...   ...  ...   ...  ...   ...    ...    ...   \n",
      "431  OAS1_0285_MR2   M    R   20   NaN  NaN   NaN  NaN  1469  0.847  1.195   \n",
      "432  OAS1_0353_MR2   M    R   22   NaN  NaN   NaN  NaN  1684  0.790  1.042   \n",
      "433  OAS1_0368_MR2   M    R   22   NaN  NaN   NaN  NaN  1580  0.856  1.111   \n",
      "434  OAS1_0379_MR2   F    R   20   NaN  NaN   NaN  NaN  1262  0.861  1.390   \n",
      "435  OAS1_0395_MR2   F    R   26   NaN  NaN   NaN  NaN  1283  0.834  1.368   \n",
      "\n",
      "     Delay  \n",
      "0      NaN  \n",
      "1      NaN  \n",
      "2      NaN  \n",
      "3      NaN  \n",
      "4      NaN  \n",
      "..     ...  \n",
      "431    2.0  \n",
      "432   40.0  \n",
      "433   89.0  \n",
      "434    2.0  \n",
      "435   39.0  \n",
      "\n",
      "[436 rows x 12 columns]\n"
     ]
    }
   ],
   "source": [
    "dataset = pd.read_csv(\"oasis_cross-sectional.csv\")\n",
    "\n",
    "print(dataset)"
   ]
  },
  {
   "cell_type": "markdown",
   "metadata": {},
   "source": [
    "Popis stupaca i opis značajki koje imaju numeričke vrijednosti"
   ]
  },
  {
   "cell_type": "code",
   "execution_count": 11,
   "metadata": {},
   "outputs": [
    {
     "name": "stdout",
     "output_type": "stream",
     "text": [
      "['ID' 'M/F' 'Hand' 'Age' 'Educ' 'SES' 'MMSE' 'CDR' 'eTIV' 'nWBV' 'ASF'\n",
      " 'Delay']\n",
      "\n",
      "              Age        Educ         SES       MMSE         CDR         eTIV  \\\n",
      "count  436.000000  235.000000  216.000000  235.00000  235.000000   436.000000   \n",
      "mean    51.357798    3.178723    2.490741   27.06383    0.285106  1481.919725   \n",
      "std     25.269862    1.311510    1.120593    3.69687    0.383405   158.740866   \n",
      "min     18.000000    1.000000    1.000000   14.00000    0.000000  1123.000000   \n",
      "25%     23.000000    2.000000    2.000000   26.00000    0.000000  1367.750000   \n",
      "50%     54.000000    3.000000    2.000000   29.00000    0.000000  1475.500000   \n",
      "75%     74.000000    4.000000    3.000000   30.00000    0.500000  1579.250000   \n",
      "max     96.000000    5.000000    5.000000   30.00000    2.000000  1992.000000   \n",
      "\n",
      "             nWBV         ASF     Delay  \n",
      "count  436.000000  436.000000  20.00000  \n",
      "mean     0.791670    1.198894  20.55000  \n",
      "std      0.059937    0.128682  23.86249  \n",
      "min      0.644000    0.881000   1.00000  \n",
      "25%      0.742750    1.111750   2.75000  \n",
      "50%      0.809000    1.190000  11.00000  \n",
      "75%      0.842000    1.284250  30.75000  \n",
      "max      0.893000    1.563000  89.00000  \n",
      "\n"
     ]
    }
   ],
   "source": [
    "print(dataset.columns.values)\n",
    "print()\n",
    "print(dataset.describe())\n",
    "print()"
   ]
  },
  {
   "cell_type": "markdown",
   "metadata": {},
   "source": [
    "Izbacivanje stupca Hand jer za sve primjere je izlaz R  \n",
    "Izbacivanje stupca Delay jer samo njih 20 ima vrijednost za ostalih 416 vrijednsot nije poznata"
   ]
  },
  {
   "cell_type": "code",
   "execution_count": 12,
   "metadata": {},
   "outputs": [
    {
     "name": "stdout",
     "output_type": "stream",
     "text": [
      "ID        0\n",
      "M/F       0\n",
      "Age       0\n",
      "Educ    201\n",
      "SES     220\n",
      "MMSE    201\n",
      "CDR     201\n",
      "eTIV      0\n",
      "nWBV      0\n",
      "ASF       0\n",
      "dtype: int64\n",
      "\n"
     ]
    }
   ],
   "source": [
    "dataset.drop(('Hand'), axis=1, inplace=True)\n",
    "dataset.drop(('Delay'), axis=1, inplace=True)\n",
    "print(dataset.isna().sum())\n",
    "print()"
   ]
  },
  {
   "cell_type": "markdown",
   "metadata": {},
   "source": [
    "### Nedostajući podatci   \n",
    "Ubaci srednju vrijednost godina tamo gdje nedostaje ta informacija  \n",
    "Ne izmacivati zapise i znacajke jer su potrebne aa ak se izbace one koje nemaju, maknulo bi se 50 posto podataka  \n",
    "Uglavnom isti zapis nema sve cetiri vrijednosti tako da bi stvarno otislo skoro 50 posto podataka"
   ]
  },
  {
   "cell_type": "code",
   "execution_count": 13,
   "metadata": {},
   "outputs": [
    {
     "name": "stdout",
     "output_type": "stream",
     "text": [
      "                ID M/F  Age      Educ       SES      MMSE       CDR  eTIV  \\\n",
      "0    OAS1_0001_MR1   F   74  2.000000  3.000000  29.00000  0.000000  1344   \n",
      "1    OAS1_0002_MR1   F   55  4.000000  1.000000  29.00000  0.000000  1147   \n",
      "2    OAS1_0003_MR1   F   73  4.000000  3.000000  27.00000  0.500000  1454   \n",
      "3    OAS1_0004_MR1   M   28  3.178723  2.490741  27.06383  0.285106  1588   \n",
      "4    OAS1_0005_MR1   M   18  3.178723  2.490741  27.06383  0.285106  1737   \n",
      "..             ...  ..  ...       ...       ...       ...       ...   ...   \n",
      "431  OAS1_0285_MR2   M   20  3.178723  2.490741  27.06383  0.285106  1469   \n",
      "432  OAS1_0353_MR2   M   22  3.178723  2.490741  27.06383  0.285106  1684   \n",
      "433  OAS1_0368_MR2   M   22  3.178723  2.490741  27.06383  0.285106  1580   \n",
      "434  OAS1_0379_MR2   F   20  3.178723  2.490741  27.06383  0.285106  1262   \n",
      "435  OAS1_0395_MR2   F   26  3.178723  2.490741  27.06383  0.285106  1283   \n",
      "\n",
      "      nWBV    ASF  \n",
      "0    0.743  1.306  \n",
      "1    0.810  1.531  \n",
      "2    0.708  1.207  \n",
      "3    0.803  1.105  \n",
      "4    0.848  1.010  \n",
      "..     ...    ...  \n",
      "431  0.847  1.195  \n",
      "432  0.790  1.042  \n",
      "433  0.856  1.111  \n",
      "434  0.861  1.390  \n",
      "435  0.834  1.368  \n",
      "\n",
      "[436 rows x 10 columns]\n"
     ]
    }
   ],
   "source": [
    "dataset_tmp = dataset.copy()\n",
    "\n",
    "dataset_tmp.loc[dataset_tmp.Educ.isna(),'Educ'] = dataset_tmp.loc[:,'Educ'].mean()\n",
    "dataset_tmp.loc[dataset_tmp.SES.isna(),'SES'] = dataset_tmp.loc[:,'SES'].mean()\n",
    "dataset_tmp.loc[dataset_tmp.MMSE.isna(),'MMSE'] = dataset_tmp.loc[:,'MMSE'].mean()\n",
    "dataset_tmp.loc[dataset_tmp.CDR.isna(),'CDR'] = dataset_tmp.loc[:,'CDR'].mean()\n",
    "print(dataset_tmp)"
   ]
  },
  {
   "cell_type": "markdown",
   "metadata": {},
   "source": [
    "### Stršeće vrijednosti  \n",
    "\n",
    "Alzheimer je bolest od koje oboljevaju stariji, mlađi su \"exceptions\" - prosjek godina je 51.35 i stdev je +/- 25.27. Sto znaći da je donja granica 26.08 a isto tako 25% po Gaussovoj razdiobi daje vrijednost od 23 godina. Što povlaći da se primjeri koji su mlađi od toga mogu odbaciti, isto tako iz inicijalne tablice se vidi da podaci za primjere gdje je osoba mlađa od 23 godine, nema podatke za polja Educ, SES, MMSE, CDR tako da su njihove vrijednosti popunjene s prosjekom, što znači da ne će utjecati na promjenu"
   ]
  },
  {
   "cell_type": "code",
   "execution_count": 14,
   "metadata": {},
   "outputs": [
    {
     "name": "stdout",
     "output_type": "stream",
     "text": [
      "                ID M/F  Age      Educ       SES      MMSE       CDR  eTIV  \\\n",
      "0    OAS1_0001_MR1   F   74  2.000000  3.000000  29.00000  0.000000  1344   \n",
      "1    OAS1_0002_MR1   F   55  4.000000  1.000000  29.00000  0.000000  1147   \n",
      "2    OAS1_0003_MR1   F   73  4.000000  3.000000  27.00000  0.500000  1454   \n",
      "3    OAS1_0004_MR1   M   28  3.178723  2.490741  27.06383  0.285106  1588   \n",
      "5    OAS1_0006_MR1   F   24  3.178723  2.490741  27.06383  0.285106  1131   \n",
      "..             ...  ..  ...       ...       ...       ...       ...   ...   \n",
      "411  OAS1_0453_MR1   F   70  1.000000  4.000000  29.00000  0.500000  1295   \n",
      "412  OAS1_0454_MR1   F   73  3.000000  2.000000  23.00000  0.500000  1536   \n",
      "413  OAS1_0455_MR1   F   61  2.000000  4.000000  28.00000  0.000000  1354   \n",
      "414  OAS1_0456_MR1   M   61  5.000000  2.000000  30.00000  0.000000  1637   \n",
      "415  OAS1_0457_MR1   F   62  3.000000  3.000000  26.00000  0.000000  1372   \n",
      "\n",
      "      nWBV    ASF  \n",
      "0    0.743  1.306  \n",
      "1    0.810  1.531  \n",
      "2    0.708  1.207  \n",
      "3    0.803  1.105  \n",
      "5    0.862  1.551  \n",
      "..     ...    ...  \n",
      "411  0.748  1.355  \n",
      "412  0.730  1.142  \n",
      "413  0.825  1.297  \n",
      "414  0.780  1.072  \n",
      "415  0.766  1.279  \n",
      "\n",
      "[341 rows x 10 columns]\n"
     ]
    }
   ],
   "source": [
    "# print(dataset_tmp.loc[dataset_tmp[(dataset_tmp.Age < 23) & (dataset_tmp.nWBV < 0.842)].index])\n",
    "dataset_tmp.drop(dataset_tmp[(dataset_tmp.Age < 23) & (dataset_tmp.nWBV < 0.809)].index, inplace=True)\n",
    "dataset_tmp.drop(dataset_tmp[(dataset_tmp.Age < 23)].index, inplace=True)\n",
    "## dataset_tmp.drop(dataset_tmp.loc[dataset_tmp.Age < 23, :], axis=0, inplace=True)\n",
    "print(dataset_tmp.sort_values(by='ID'))\n"
   ]
  },
  {
   "cell_type": "markdown",
   "metadata": {},
   "source": [
    "### Vizualizacija podataka"
   ]
  },
  {
   "cell_type": "code",
   "execution_count": 15,
   "metadata": {},
   "outputs": [
    {
     "data": {
      "image/png": "[encoded data removed]",
      "text/plain": [
       "<Figure size 432x288 with 1 Axes>"
      ]
     },
     "metadata": {
      "needs_background": "light"
     },
     "output_type": "display_data"
    }
   ],
   "source": [
    "plt.hist(dataset_tmp.Age)\n",
    "plt.title('Prikaz godina za sve sudionike')\n",
    "plt.xlabel('Age')\n",
    "plt.show()\n",
    "# print(dataset_tmp.sort_values(by='ID'))"
   ]
  },
  {
   "cell_type": "code",
   "execution_count": 16,
   "metadata": {},
   "outputs": [
    {
     "data": {
      "image/png": "[encoded data removed]",
      "text/plain": [
       "<Figure size 432x288 with 1 Axes>"
      ]
     },
     "metadata": {
      "needs_background": "light"
     },
     "output_type": "display_data"
    }
   ],
   "source": [
    "plt.hist(dataset_tmp.CDR, bins=30, range=(0,2), label='CDR', color='green', alpha=0.3)\n",
    "plt.hist(dataset_tmp.nWBV, bins=30, range=(0,2), label='nWBV', color='blue', alpha=0.3)\n",
    "plt.legend(loc='best')\n",
    "plt.grid()\n",
    "plt.show()"
   ]
  },
  {
   "cell_type": "code",
   "execution_count": 39,
   "metadata": {},
   "outputs": [
    {
     "name": "stdout",
     "output_type": "stream",
     "text": [
      "3.178723    106\n",
      "2.000000     64\n",
      "5.000000     51\n",
      "4.000000     50\n",
      "3.000000     47\n",
      "1.000000     23\n",
      "Name: Educ, dtype: int64\n"
     ]
    },
    {
     "data": {
      "image/png": "[encoded data removed]",
      "text/plain": [
       "<Figure size 432x288 with 1 Axes>"
      ]
     },
     "metadata": {},
     "output_type": "display_data"
    }
   ],
   "source": [
    "title_name = dataset_tmp.groupby('Educ').count().index.values\n",
    "percent = (title_name/len(dataset_tmp))*100\n",
    "\n",
    "print(pd.Series(dataset_tmp['Educ']).value_counts())\n",
    "plt.pie(percent)\n",
    "plt.show()"
   ]
  },
  {
   "cell_type": "code",
   "execution_count": null,
   "metadata": {},
   "outputs": [],
   "source": []
  }
 ],
 "metadata": {
  "kernelspec": {
   "display_name": "Python 3.9.0 64-bit",
   "language": "python",
   "name": "python3"
  },
  "language_info": {
   "codemirror_mode": {
    "name": "ipython",
    "version": 3
   },
   "file_extension": ".py",
   "mimetype": "text/x-python",
   "name": "python",
   "nbconvert_exporter": "python",
   "pygments_lexer": "ipython3",
   "version": "3.9.0"
  },
  "orig_nbformat": 4,
  "vscode": {
   "interpreter": {
    "hash": "8945e070dfa56a40f2973f05b93c0ac7ae735feff77f5fb7e38334863e2e9cfa"
   }
  }
 },
 "nbformat": 4,
 "nbformat_minor": 2
}
