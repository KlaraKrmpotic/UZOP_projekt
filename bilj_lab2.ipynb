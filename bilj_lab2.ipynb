{
 "cells": [
  {
   "attachments": {},
   "cell_type": "markdown",
   "metadata": {},
   "source": [
    "## LAB2"
   ]
  },
  {
   "cell_type": "code",
   "execution_count": 122,
   "metadata": {},
   "outputs": [],
   "source": [
    "import numpy as np\n",
    "import pandas as pd\n",
    "import matplotlib.pyplot as plt\n",
    "import seaborn as sns\n",
    "from sklearn.model_selection import train_test_split\n",
    "from sklearn import metrics\n",
    "from sklearn.metrics import roc_curve, auc\n",
    "from sklearn.svm import SVC\n",
    "from sklearn.tree import DecisionTreeClassifier\n"
   ]
  },
  {
   "cell_type": "code",
   "execution_count": 123,
   "metadata": {},
   "outputs": [
    {
     "name": "stdout",
     "output_type": "stream",
     "text": [
      "   Subject ID        Group  Visit  CDR\n",
      "0   OAS2_0001  Nondemented      1  0.0\n",
      "2   OAS2_0002     Demented      1  0.5\n",
      "5   OAS2_0004  Nondemented      1  0.0\n",
      "7   OAS2_0005  Nondemented      1  0.0\n",
      "10  OAS2_0007     Demented      1  0.5\n",
      "13  OAS2_0008  Nondemented      1  0.0\n",
      "15  OAS2_0009     Demented      1  0.5\n"
     ]
    }
   ],
   "source": [
    "dataset = pd.read_csv(\"dataset_cleaned.csv\")\n",
    "\n",
    "firstVisits = dataset.loc[dataset['Visit'] == 1]\n",
    "\n",
    "print(firstVisits.loc[0:15, ['Subject ID', 'Group', 'Visit' , 'CDR']])"
   ]
  },
  {
   "attachments": {},
   "cell_type": "markdown",
   "metadata": {},
   "source": [
    "Sve osobe koje su u nekom kasnijem posjetu bile zabilježene kao 'Converted' se na kraju klasificiraju isto kao i osobe označene s 'Demented' od početka"
   ]
  },
  {
   "cell_type": "code",
   "execution_count": 124,
   "metadata": {},
   "outputs": [
    {
     "name": "stdout",
     "output_type": "stream",
     "text": [
      "    Unnamed: 0 Subject ID         MRI ID        Group  Visit  MR Delay M/F  \\\n",
      "32          32  OAS2_0017  OAS2_0017_MR5  Nondemented      5      2400   M   \n",
      "33          33  OAS2_0018  OAS2_0018_MR1     Demented      1         0   F   \n",
      "34          34  OAS2_0018  OAS2_0018_MR3     Demented      3       489   F   \n",
      "35          35  OAS2_0018  OAS2_0018_MR4     Demented      4      1933   F   \n",
      "36          36  OAS2_0020  OAS2_0020_MR1     Demented      1         0   M   \n",
      "37          37  OAS2_0020  OAS2_0020_MR2     Demented      2       756   M   \n",
      "38          38  OAS2_0020  OAS2_0020_MR3     Demented      3      1563   M   \n",
      "39          39  OAS2_0021  OAS2_0021_MR1     Demented      1         0   M   \n",
      "40          40  OAS2_0021  OAS2_0021_MR2     Demented      2      1164   M   \n",
      "41          41  OAS2_0022  OAS2_0022_MR1  Nondemented      1         0   F   \n",
      "42          42  OAS2_0022  OAS2_0022_MR2  Nondemented      2       828   F   \n",
      "\n",
      "    Age  EDUC  SES  MMSE  CDR  eTIV   nWBV    ASF  \n",
      "32   86    12  3.0  27.0  0.0  1813  0.761  0.968  \n",
      "33   87    14  1.0  30.0  0.0  1406  0.715  1.248  \n",
      "34   88    14  1.0  29.0  0.0  1398  0.713  1.255  \n",
      "35   92    14  1.0  27.0  0.5  1423  0.696  1.234  \n",
      "36   80    20  1.0  29.0  0.0  1587  0.693  1.106  \n",
      "37   82    20  1.0  28.0  0.5  1606  0.677  1.093  \n",
      "38   84    20  1.0  26.0  0.5  1597  0.666  1.099  \n",
      "39   72    20  1.0  26.0  0.5  1911  0.719  0.919  \n",
      "40   76    20  1.0  25.0  0.5  1926  0.736  0.911  \n",
      "41   61    16  3.0  30.0  0.0  1313  0.805  1.337  \n",
      "42   64    16  3.0  29.0  0.0  1316  0.796  1.333  \n"
     ]
    }
   ],
   "source": [
    "dataset['Group'] = dataset['Group'].replace(['Converted'], ['Demented'])\n",
    "\n",
    "print(dataset.loc[32:42,:])"
   ]
  },
  {
   "attachments": {},
   "cell_type": "markdown",
   "metadata": {},
   "source": [
    "### STRING u INT\n",
    "\n",
    "Da se moze provesti binarna klasifikacija  \n",
    "Oznaka 'Grupa' je ono što će se pokušati pogoditi"
   ]
  },
  {
   "cell_type": "code",
   "execution_count": 125,
   "metadata": {},
   "outputs": [
    {
     "name": "stdout",
     "output_type": "stream",
     "text": [
      "    Unnamed: 0 Subject ID         MRI ID  Group  Visit  MR Delay  M/F  Age  \\\n",
      "32          32  OAS2_0017  OAS2_0017_MR5      0      5      2400    1   86   \n",
      "33          33  OAS2_0018  OAS2_0018_MR1      1      1         0    0   87   \n",
      "34          34  OAS2_0018  OAS2_0018_MR3      1      3       489    0   88   \n",
      "35          35  OAS2_0018  OAS2_0018_MR4      1      4      1933    0   92   \n",
      "36          36  OAS2_0020  OAS2_0020_MR1      1      1         0    1   80   \n",
      "37          37  OAS2_0020  OAS2_0020_MR2      1      2       756    1   82   \n",
      "38          38  OAS2_0020  OAS2_0020_MR3      1      3      1563    1   84   \n",
      "39          39  OAS2_0021  OAS2_0021_MR1      1      1         0    1   72   \n",
      "40          40  OAS2_0021  OAS2_0021_MR2      1      2      1164    1   76   \n",
      "41          41  OAS2_0022  OAS2_0022_MR1      0      1         0    0   61   \n",
      "42          42  OAS2_0022  OAS2_0022_MR2      0      2       828    0   64   \n",
      "\n",
      "    EDUC  SES  MMSE  CDR  eTIV   nWBV    ASF  \n",
      "32    12  3.0  27.0  0.0  1813  0.761  0.968  \n",
      "33    14  1.0  30.0  0.0  1406  0.715  1.248  \n",
      "34    14  1.0  29.0  0.0  1398  0.713  1.255  \n",
      "35    14  1.0  27.0  0.5  1423  0.696  1.234  \n",
      "36    20  1.0  29.0  0.0  1587  0.693  1.106  \n",
      "37    20  1.0  28.0  0.5  1606  0.677  1.093  \n",
      "38    20  1.0  26.0  0.5  1597  0.666  1.099  \n",
      "39    20  1.0  26.0  0.5  1911  0.719  0.919  \n",
      "40    20  1.0  25.0  0.5  1926  0.736  0.911  \n",
      "41    16  3.0  30.0  0.0  1313  0.805  1.337  \n",
      "42    16  3.0  29.0  0.0  1316  0.796  1.333  \n"
     ]
    }
   ],
   "source": [
    "group_map = {\"Demented\": 1, \"Nondemented\": 0}\n",
    "\n",
    "dataset['Group'] = dataset['Group'].map(group_map)\n",
    "dataset['M/F'] = dataset['M/F'].replace(['F','M'], [0,1])\n",
    "\n",
    "print(dataset.loc[32:42,:])"
   ]
  },
  {
   "attachments": {},
   "cell_type": "markdown",
   "metadata": {},
   "source": [
    "### Podjela na train i test set\n",
    "\n",
    "The data had been preprocessed, and we randomly divided it into an 80:20 ratio, with 80% going to training and 20% gone to testing"
   ]
  },
  {
   "cell_type": "code",
   "execution_count": 126,
   "metadata": {},
   "outputs": [
    {
     "data": {
      "text/plain": [
       "' \\ni = 0\\nfor ex in X_test:\\n    print(str(i) + \". : \" + str(ex))\\n    i = i + 1\\n'"
      ]
     },
     "execution_count": 126,
     "metadata": {},
     "output_type": "execute_result"
    }
   ],
   "source": [
    "model_features = ['M/F', 'Age', 'EDUC', 'SES', 'MMSE', 'eTIV', 'nWBV', 'ASF']    # \"MRI ID\", - da mogu lijepo ispisat\n",
    "model_prediction_class = ['Group']\n",
    "\n",
    "X = dataset[model_features].values\n",
    "y = dataset[model_prediction_class].values\n",
    "\n",
    "# random_state sets a seed to the random generator, so that  train-test splits are always deterministic\n",
    "X_train, X_test, y_train, y_test = train_test_split(X, y, test_size=0.20, random_state=44)\n",
    "# Ispadne ih 74 u X_test setu : 373 * 0.2 = 74.6\n",
    "\"\"\" \n",
    "i = 0\n",
    "for ex in X_test:\n",
    "    print(str(i) + \". : \" + str(ex))\n",
    "    i = i + 1\n",
    "\"\"\""
   ]
  },
  {
   "attachments": {},
   "cell_type": "markdown",
   "metadata": {},
   "source": [
    "### Razlog odabira značajki\n",
    "\n",
    "MMSE - Non-demented group had much higher MMSE (Mini-Mental State Examination) scores than those with dementia - from article (Figure 4)  \n",
    "Gender - Men are more likely than women to have dementia  \n",
    "ASF, eTIV - Disease causes brain tissue to shrink -> demented people have smallerbrain volume ratio  \n",
    "EDUC - Demented patients were less educated  \n",
    "Age - Dementia is a disease more common for older people  "
   ]
  },
  {
   "attachments": {},
   "cell_type": "markdown",
   "metadata": {},
   "source": [
    "### Funkcije za izgradnju matrice zabune i ROC krivulje\n",
    "\n",
    "Matrica zabune govori koliko je primjera iz test seta bilo točno klasificirano (true negative i true positive), a koliko njih krivo (false positive i false negative) - pošto je train skup dio ulaznih podataka koje smo već vidjeli, znamo koju oznaku klase očekujemo; predviđena vrijednost je dobivena predikcijom modela koji je treniran na train skupu primjera.  \n",
    "  \n",
    "ROC krivulja "
   ]
  },
  {
   "cell_type": "code",
   "execution_count": 127,
   "metadata": {},
   "outputs": [],
   "source": [
    "def performance_report(model):\n",
    "    model_test = model.predict(X_test)\n",
    "    accuracyScore = metrics.accuracy_score(y_test, model_test)\n",
    "    print(\"\\nAcuuracy Of the Model: \" +  str(accuracyScore) + \"\\n\")\n",
    "    confusionMatrix = metrics.confusion_matrix(y_test, model_test)\n",
    "    print(\"Confusion Matrix:\")\n",
    "    # TN    FP\n",
    "    # FN    TP\n",
    "    print(\"{0}\".format(confusionMatrix))\n",
    "    print(\"\\nClassification Report: \")\n",
    "    print(metrics.classification_report(y_test, model_test))\n"
   ]
  },
  {
   "cell_type": "code",
   "execution_count": 128,
   "metadata": {},
   "outputs": [],
   "source": [
    "def plot_roc_curve(model):\n",
    "    predictions_test = model.predict(X_test)\n",
    "    fpr, tpr, _ = roc_curve(y_test, predictions_test)\n",
    "    roc_auc = auc(fpr, tpr)\n",
    "    plt.figure()\n",
    "    plt.plot(fpr, tpr, color='red', lw=1, label='ROC curve (area = %0.2f)' % roc_auc)\n",
    "    plt.xlim([0.0, 1.0])\n",
    "    plt.ylim([0.0, 1.05])\n",
    "    plt.xlabel('False Positive Rate')\n",
    "    plt.ylabel('True Positive Rate')\n",
    "    plt.title('AUC/ROC curve')\n",
    "    plt.show()"
   ]
  },
  {
   "attachments": {},
   "cell_type": "markdown",
   "metadata": {},
   "source": [
    "Classification report:\n",
    "\n",
    "**Accuracy** - proportion of people correctly classified ((TN + TP) / (TN + TP + FN + FP)) * 100  \n",
    "**Precision** - people correctly classified as not having the disease  (TP) / (TP + FP)  \n",
    "**Recall** - people accurately classified as having Alzheimer's (TP) / (TP + FN)  \n",
    "**F1 score** - weighted average of recall and precision 2 * ((Recall + Precision) / (Recall + Precision))"
   ]
  },
  {
   "attachments": {},
   "cell_type": "markdown",
   "metadata": {},
   "source": [
    "### Odabir modela\n",
    "\n",
    "Support Vector Classifier  \n",
    "\n",
    "Decision tree  "
   ]
  },
  {
   "attachments": {},
   "cell_type": "markdown",
   "metadata": {},
   "source": [
    "### Support Vector Classifier (SVC)\n",
    "\n",
    "Find a hyperplane that separates cases of two categories of variables that take up neighboring clusters of vectors, one on one side, the other on the other side. Support vectors are those that are closer to the hyperplane.   \n",
    "  \n",
    "Support vectors: y*h(x) = 1\n",
    "\n",
    "**Hiperparametar C** - poraste ove varijable daje tvrđu marginu (granica između klasa) -> model je složeniji  \n",
    "**Kernel** - jezgrena funkcija, koja umjesto skalarnog umnoška w\\*x, koristi (recimo linearna funkcija) x\\*x u modelu (h(x))  "
   ]
  },
  {
   "cell_type": "code",
   "execution_count": 129,
   "metadata": {},
   "outputs": [
    {
     "name": "stdout",
     "output_type": "stream",
     "text": [
      "\n",
      "Acuuracy Of the Model: 0.8133333333333334\n",
      "\n",
      "Confusion Matrix:\n",
      "[[28  4]\n",
      " [10 33]]\n",
      "\n",
      "Classification Report: \n",
      "              precision    recall  f1-score   support\n",
      "\n",
      "           0       0.74      0.88      0.80        32\n",
      "           1       0.89      0.77      0.82        43\n",
      "\n",
      "    accuracy                           0.81        75\n",
      "   macro avg       0.81      0.82      0.81        75\n",
      "weighted avg       0.83      0.81      0.81        75\n",
      "\n"
     ]
    },
    {
     "data": {
      "image/png": "[encoded data removed]",
      "text/plain": [
       "<Figure size 432x288 with 1 Axes>"
      ]
     },
     "metadata": {
      "needs_background": "light"
     },
     "output_type": "display_data"
    }
   ],
   "source": [
    "svm = SVC(C=50, kernel='linear')\n",
    "clf1 = svm.fit(X_train, y_train.ravel())\n",
    "performance_report(svm) \n",
    "plot_roc_curve(svm)"
   ]
  },
  {
   "attachments": {},
   "cell_type": "markdown",
   "metadata": {},
   "source": [
    "### Decision tree\n",
    "\n",
    "Primjer se klasificira slijednim ispitivanjem vrijednosti značajki, krenuvši od korijena (vrha) stabla prema dnu (listovima)  - (UUI prez10)\n",
    "**Minimizacija entropije** - suma vjerojatnosti svih vrijednosti značajke s njihovim vjerojatnostima (pi * log(pi))  \n",
    "**Information gain** - kolika je težina entropije svake grane na cijelom setu i onda računamo koliko je ta oduzela od prijašnje entropije (za parent značajku i njezinu vrijednost na toj grani); porast IG -> više entropije je maknuto (jer težimo prema 0) "
   ]
  },
  {
   "cell_type": "code",
   "execution_count": 130,
   "metadata": {},
   "outputs": [
    {
     "name": "stdout",
     "output_type": "stream",
     "text": [
      "\n",
      "Acuuracy Of the Model: 0.7866666666666666\n",
      "\n",
      "Confusion Matrix:\n",
      "[[30  2]\n",
      " [14 29]]\n",
      "\n",
      "Classification Report: \n",
      "              precision    recall  f1-score   support\n",
      "\n",
      "           0       0.68      0.94      0.79        32\n",
      "           1       0.94      0.67      0.78        43\n",
      "\n",
      "    accuracy                           0.79        75\n",
      "   macro avg       0.81      0.81      0.79        75\n",
      "weighted avg       0.83      0.79      0.79        75\n",
      "\n"
     ]
    },
    {
     "data": {
      "image/png": "[encoded data removed]",
      "text/plain": [
       "<Figure size 432x288 with 1 Axes>"
      ]
     },
     "metadata": {
      "needs_background": "light"
     },
     "output_type": "display_data"
    }
   ],
   "source": [
    "dtc = DecisionTreeClassifier(criterion='entropy', max_depth=6)\n",
    "clf2 = dtc.fit(X_train, y_train.ravel())\n",
    "performance_report(dtc) \n",
    "plot_roc_curve(dtc)"
   ]
  },
  {
   "attachments": {},
   "cell_type": "markdown",
   "metadata": {},
   "source": [
    "### Logistička regresija\n",
    "\n",
    "Koristi se za klasifikaciju - y je diskretna varijabla  \n",
    "Model logističke regresije koristi sigmoidnu funkciju "
   ]
  },
  {
   "cell_type": "code",
   "execution_count": 131,
   "metadata": {},
   "outputs": [
    {
     "name": "stdout",
     "output_type": "stream",
     "text": [
      "\n",
      "Acuuracy Of the Model: 0.7866666666666666\n",
      "\n",
      "Confusion Matrix:\n",
      "[[30  2]\n",
      " [14 29]]\n",
      "\n",
      "Classification Report: \n",
      "              precision    recall  f1-score   support\n",
      "\n",
      "           0       0.68      0.94      0.79        32\n",
      "           1       0.94      0.67      0.78        43\n",
      "\n",
      "    accuracy                           0.79        75\n",
      "   macro avg       0.81      0.81      0.79        75\n",
      "weighted avg       0.83      0.79      0.79        75\n",
      "\n"
     ]
    },
    {
     "name": "stderr",
     "output_type": "stream",
     "text": [
      "c:\\Users\\Klara Krmpotic\\AppData\\Local\\Programs\\Python\\Python39\\lib\\site-packages\\sklearn\\linear_model\\_logistic.py:444: ConvergenceWarning: lbfgs failed to converge (status=1):\n",
      "STOP: TOTAL NO. of ITERATIONS REACHED LIMIT.\n",
      "\n",
      "Increase the number of iterations (max_iter) or scale the data as shown in:\n",
      "    https://scikit-learn.org/stable/modules/preprocessing.html\n",
      "Please also refer to the documentation for alternative solver options:\n",
      "    https://scikit-learn.org/stable/modules/linear_model.html#logistic-regression\n",
      "  n_iter_i = _check_optimize_result(\n"
     ]
    },
    {
     "data": {
      "image/png": "[encoded data removed]",
      "text/plain": [
       "<Figure size 432x288 with 1 Axes>"
      ]
     },
     "metadata": {
      "needs_background": "light"
     },
     "output_type": "display_data"
    }
   ],
   "source": [
    "from sklearn import linear_model\n",
    "\n",
    "model_features1 = ['M/F', 'Age', 'EDUC', 'SES', 'MMSE', 'eTIV', 'nWBV', 'ASF']\n",
    "model_prediction_class1 = ['CDR']\n",
    "X1 = dataset[model_features1].values\n",
    "y1 = dataset[model_prediction_class1].values\n",
    "X_train1, X_test1, y_train1, y_test1 = train_test_split(X1, y1, test_size=0.20, random_state=44)\n",
    "\n",
    "logRegModel = linear_model.LogisticRegression()\n",
    "logRegModel.fit(X_train, y_train.ravel())\n",
    "performance_report(logRegModel)\n",
    "plot_roc_curve(logRegModel)\n"
   ]
  }
 ],
 "metadata": {
  "kernelspec": {
   "display_name": "Python 3",
   "language": "python",
   "name": "python3"
  },
  "language_info": {
   "codemirror_mode": {
    "name": "ipython",
    "version": 3
   },
   "file_extension": ".py",
   "mimetype": "text/x-python",
   "name": "python",
   "nbconvert_exporter": "python",
   "pygments_lexer": "ipython3",
   "version": "3.9.0"
  },
  "orig_nbformat": 4,
  "vscode": {
   "interpreter": {
    "hash": "8945e070dfa56a40f2973f05b93c0ac7ae735feff77f5fb7e38334863e2e9cfa"
   }
  }
 },
 "nbformat": 4,
 "nbformat_minor": 2
}
